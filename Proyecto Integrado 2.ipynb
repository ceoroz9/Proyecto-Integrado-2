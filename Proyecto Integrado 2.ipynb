{
 "cells": [
  {
   "cell_type": "markdown",
   "metadata": {},
   "source": [
    "Hola &#x1F600;\n",
    "\n",
    "Soy **Hesus Garcia**  como \"Jesús\" pero con H. Sé que puede ser confuso al principio, pero una vez que lo recuerdes, ¡nunca lo olvidarás! &#x1F31D;\t. Como revisor de código de Triple-Ten, estoy emocionado de examinar tus proyectos y ayudarte a mejorar tus habilidades en programación. si has cometido algún error, no te preocupes, pues ¡estoy aquí para ayudarte a corregirlo y hacer que tu código brille! &#x1F31F;. Si encuentro algún detalle en tu código, te lo señalaré para que lo corrijas, ya que mi objetivo es ayudarte a prepararte para un ambiente de trabajo real, donde el líder de tu equipo actuaría de la misma manera. Si no puedes solucionar el problema, te proporcionaré más información en la próxima oportunidad. Cuando encuentres un comentario,  **por favor, no los muevas, no los modifiques ni los borres**. \n",
    "\n",
    "Revisaré cuidadosamente todas las implementaciones que has realizado para cumplir con los requisitos y te proporcionaré mis comentarios de la siguiente manera:\n",
    "\n",
    "\n",
    "<div class=\"alert alert-block alert-success\">\n",
    "<b>Comentario del revisor</b> <a class=“tocSkip”></a>\n",
    "Si todo está perfecto.\n",
    "</div>\n",
    "\n",
    "<div class=\"alert alert-block alert-warning\">\n",
    "<b>Comentario del revisor</b> <a class=“tocSkip”></a>\n",
    "Si tu código está bien pero se puede mejorar o hay algún detalle que le hace falta.\n",
    "</div>\n",
    "\n",
    "<div class=\"alert alert-block alert-danger\">\n",
    "<b>Comentario del revisor</b> <a class=“tocSkip”></a>\n",
    "Si de pronto hace falta algo o existe algún problema con tu código o conclusiones.\n",
    "</div>\n",
    "\n",
    "Puedes responderme de esta forma:\n",
    "<div class=\"alert alert-block alert-info\">\n",
    "<b>Respuesta del estudiante</b> <a class=“tocSkip”></a>\n",
    "</div>\n",
    "\n",
    "</br>\n",
    "\n",
    "**¡Empecemos!**  &#x1F680;"
   ]
  },
  {
   "cell_type": "markdown",
   "metadata": {},
   "source": [
    "# Introducción\n",
    "\n",
    "Soy empleado de una empresa emergente de alimentos y necesito estudiar el comportamiento de los usuarios de la aplicación de la empresa.\n",
    "\n",
    "En primer lugar, necesito estudiar el embudo de ventas. Quiero saber cómo llegan los usuarios a la etapa de compra. ¿Cuántos usuarios llegan realmente a esta etapa? ¿Cuántos se quedaron atascados en los pasos anteriores?\n",
    "\n",
    "Luego analizaré los resultados de la prueba A/A/B. Los diseñadores quieren cambiar las fuentes de toda la aplicación, pero los gerentes temen que el nuevo diseño pueda intimidar a los usuarios. Los usuarios se dividen en tres grupos: dos grupos de control reciben fuentes antiguas y un grupo de prueba recibe fuentes nuevas. Vamos a averiguar qué conjunto de fuentes proporciona la mejor conversión."
   ]
  },
  {
   "cell_type": "markdown",
   "metadata": {},
   "source": [
    "# Descripción de los datos\n",
    "Cada entrada de registro es una acción de usuario o un evento:\n",
    " - EventName: nombre del evento.\n",
    " - DeviceIDHash: identificador de usuario unívoco.\n",
    " - EventTimestamp: hora del evento.\n",
    " - ExpId: número de experimento: 246 y 247 son los grupos de control, 248 es el grupo de prueba."
   ]
  },
  {
   "cell_type": "markdown",
   "metadata": {},
   "source": [
    "## Descarga de datos y preparación para el análisis."
   ]
  },
  {
   "cell_type": "code",
   "execution_count": null,
   "metadata": {},
   "outputs": [],
   "source": [
    "import pandas as pd\n",
    "from datetime import datetime\n",
    "import numpy as np\n",
    "import math\n",
    "from scipy import stats as st\n",
    "import matplotlib.pyplot as plt\n",
    "import matplotlib.ticker as ticker\n",
    "import seaborn as sns\n",
    "import plotly.express as px\n",
    "from plotly.subplots import make_subplots\n",
    "import plotly.figure_factory as ff\n",
    "from plotly import graph_objects as go\n",
    "\n",
    "pd.options.display.float_format = \"{:.2f}\".format\n",
    "color_dict = ['#b83800','#00b838','#4800eb','#ffcf05','#5f3600','#d938ff','#004c3d']"
   ]
  },
  {
   "cell_type": "markdown",
   "metadata": {},
   "source": [
    "<div class=\"alert alert-block alert-warning\">\n",
    "<b>Comentario del revisor</b> <a class=“tocSkip”></a>\n",
    "Tu código no tiene ningun error, pero quería proporcionarte algunos comentarios sobre la organización de los imports en tu código. Entiendo que esto se te proporcionó como parte de una plantilla, sin embargo es importante destacar el orden de los imports. \n",
    "    \n",
    "Es preferible agrupar los imports siguiendo el siguiente orden:\n",
    "\n",
    "Imports de la biblioteca estándar de Python.\n",
    "Imports de bibliotecas de terceros relacionadas.\n",
    "Imports específicos de la aplicación local o biblioteca personalizada.\n",
    "Para mejorar la legibilidad del código, también es recomendable dejar una línea en blanco entre cada grupo de imports, pero solo un import por línea.\n",
    "Te dejo esta referencia con ejemplos:  \n",
    "https://pep8.org/#imports\n",
    "\n",
    "</div>"
   ]
  },
  {
   "cell_type": "markdown",
   "metadata": {},
   "source": [
    "Análisis preliminar de la estructura de datos."
   ]
  },
  {
   "cell_type": "code",
   "execution_count": null,
   "metadata": {},
   "outputs": [],
   "source": [
    "logs_path   = 'logs_exp_us.csv'\n",
    "platform_path = 'https://code.s3.yandex.net/datasets/'\n",
    "\n",
    "try:\n",
    "    logs   = pd.read_csv(logs_path, sep='\\t', nrows=500)\n",
    "except:\n",
    "    logs  = pd.read_csv(platform_path+logs_path, sep='\\t', nrows=500)"
   ]
  },
  {
   "cell_type": "code",
   "execution_count": null,
   "metadata": {},
   "outputs": [],
   "source": [
    "logs.info()"
   ]
  },
  {
   "cell_type": "code",
   "execution_count": null,
   "metadata": {},
   "outputs": [],
   "source": [
    "logs[:5]"
   ]
  },
  {
   "cell_type": "code",
   "execution_count": null,
   "metadata": {},
   "outputs": [],
   "source": [
    "logs['EventName'].value_counts()"
   ]
  },
  {
   "cell_type": "markdown",
   "metadata": {},
   "source": [
    "Carga de datos en forma optimizada."
   ]
  },
  {
   "cell_type": "code",
   "execution_count": null,
   "metadata": {},
   "outputs": [],
   "source": [
    "try:\n",
    "    logs = pd.read_csv(logs_path, sep='\\t', \n",
    "                             dtype={'EventName': 'category'})\n",
    "except:\n",
    "    logs = pd.read_csv(platform_path+logs_path, sep='\\t', \n",
    "                             dtype={'EventName': 'category'})"
   ]
  },
  {
   "cell_type": "markdown",
   "metadata": {},
   "source": [
    "## Preprocesamiento de datos"
   ]
  },
  {
   "cell_type": "code",
   "execution_count": null,
   "metadata": {},
   "outputs": [],
   "source": [
    "logs.info()"
   ]
  },
  {
   "cell_type": "markdown",
   "metadata": {},
   "source": [
    "No se encontraron datos faltantes. Cambiaré el nombre de las columnas."
   ]
  },
  {
   "cell_type": "code",
   "execution_count": null,
   "metadata": {},
   "outputs": [],
   "source": [
    "logs.columns"
   ]
  },
  {
   "cell_type": "code",
   "execution_count": null,
   "metadata": {},
   "outputs": [],
   "source": [
    "logs.columns = ('event','user_id','timestamp','exp_id')"
   ]
  },
  {
   "cell_type": "markdown",
   "metadata": {},
   "source": [
    "- Agregaré una columna de fecha y hora y una columna separada para fechas."
   ]
  },
  {
   "cell_type": "code",
   "execution_count": null,
   "metadata": {},
   "outputs": [],
   "source": [
    "logs.isnull().sum()"
   ]
  },
  {
   "cell_type": "code",
   "execution_count": null,
   "metadata": {},
   "outputs": [],
   "source": [
    "logs['datetime'] = logs['timestamp'].apply(lambda x: datetime.fromtimestamp(x))\n",
    "logs['date'] = logs['datetime'].astype('datetime64[D]')\n",
    "logs[:5]"
   ]
  },
  {
   "cell_type": "markdown",
   "metadata": {},
   "source": [
    "Voy a encontrar duplicados y valores faltantes."
   ]
  },
  {
   "cell_type": "code",
   "execution_count": null,
   "metadata": {},
   "outputs": [],
   "source": [
    "print('Existen {:} duplicados en la mesa. Esto es el {:.2%} de toda la data.'.\n",
    "      format(logs.duplicated().sum(),logs.duplicated().sum()/len(logs)))"
   ]
  },
  {
   "cell_type": "code",
   "execution_count": null,
   "metadata": {},
   "outputs": [],
   "source": [
    "logs.drop_duplicates(keep= 'last', inplace=True)\n",
    "print('Duplicados encontrados - ',logs.duplicated().sum(),' records')"
   ]
  },
  {
   "cell_type": "code",
   "execution_count": null,
   "metadata": {},
   "outputs": [],
   "source": [
    "users_wrong = logs.groupby('user_id', as_index = False).agg({'exp_id':'nunique'})\n",
    "print('{:} usuarios que han participado en más de un experimento'.\n",
    "      format(len(users_wrong.query('exp_id > 1'))))"
   ]
  },
  {
   "cell_type": "markdown",
   "metadata": {},
   "source": [
    "- Conclusión\n",
    "\n",
    "En conclusión, todo salió bien durante el proceso de limpieza de datos. No se encontraron valores faltantes, se identificaron y eliminaron duplicados, se simplificaron los nombres de las columnas para una mejor comprensión y se convirtió el campo \"EventName\" en una variable categórica."
   ]
  },
  {
   "cell_type": "markdown",
   "metadata": {},
   "source": [
    "<div class=\"alert alert-block alert-success\">\n",
    "\n",
    "<b>Comentario del revisor</b> <a class=\"tocSkip\"></a>\n",
    "\n",
    "Muy bien, hiciste un conciso análisis exploratorio de datos pero pertinente dado el dataset otorgado, a continuación algunos comentarios:\n",
    "    \n",
    "<ul>\n",
    "    <li>Excelente en la carga y exploración inicial de datos con métodos tradicionales, la parte de los duplicados está también bastante bien hecha, esto a veces se puede deber a errores de los logs o un usuario realizando una acción bastante rápido que el sistema no alcanza a detectar o duplica.</li>\n",
    "    <li>Muy bien el procesamiento, de forma rápida y concisa creaste el dataframe con los datos esperados, separando la información de los logs y usando una columna de fecha y una columna de fecha y hora.</li>\n",
    "    <li>Muy bien por el uso adecuado de tipo de datos. Sería de mucha ayuda tener un info final después de haber finalizado todo tu procesamiento para mayor claridad inmediata.</li>\n",
    "</ul>\n",
    "</div>"
   ]
  },
  {
   "cell_type": "markdown",
   "metadata": {},
   "source": [
    "## Estudiar y comprobar los datos\n",
    "### ¿Cuántos eventos hay en los registros?"
   ]
  },
  {
   "cell_type": "code",
   "execution_count": null,
   "metadata": {},
   "outputs": [],
   "source": [
    "event_number = logs.groupby('exp_id', as_index = False).agg({'event':'count'})\n",
    "event_number"
   ]
  },
  {
   "cell_type": "code",
   "execution_count": null,
   "metadata": {},
   "outputs": [],
   "source": [
    "def plot_bar_for_events(df, \n",
    "                        x_column, \n",
    "                        y_column, \n",
    "                        tickvals2, \n",
    "                        texttemplate = '%{text:.4s}',\n",
    "                        title = \"Title\",\n",
    "                        xaxis_title = \"Número de prueba\",\n",
    "                        yaxis_title = 'Date'):\n",
    "    fig = go.Figure()\n",
    "    fig.add_trace(go.Bar(x=df[x_column],\n",
    "                         y=df[y_column],\n",
    "                         text=df[y_column],\n",
    "                         texttemplate=texttemplate,\n",
    "                         textposition='outside',\n",
    "                         textfont_size=14,\n",
    "                         marker=dict(\n",
    "                             color='rgba(196, 207, 200 0.6)',\n",
    "                             line=dict(\n",
    "                                 color='rgba(18, 63, 36,  1.0)',\n",
    "                                 width=1),\n",
    "                         )\n",
    "                        ))\n",
    "    fig.update_layout(\n",
    "        title=title,\n",
    "        xaxis_tickfont_size=16,\n",
    "        yaxis=dict(\n",
    "            title=yaxis_title,\n",
    "            titlefont_size=18,\n",
    "            tickfont_size=16,\n",
    "        ),\n",
    "        xaxis=dict(\n",
    "            title=xaxis_title,\n",
    "            titlefont_size=18,\n",
    "            tickfont_size=16,\n",
    "            tickmode = 'array',\n",
    "            tickvals = tickvals\n",
    "        ),\n",
    "        bargroupgap=0.1\n",
    "    )\n",
    "    \n",
    "    fig.show()"
   ]
  },
  {
   "cell_type": "code",
   "execution_count": null,
   "metadata": {},
   "outputs": [],
   "source": [
    "tickvals = list(event_number['exp_id'])\n",
    "plot_bar_for_events(event_number,'exp_id', 'event', tickvals, \n",
    "                    title = \"Número de eventos en cada prueba\",\n",
    "                    yaxis_title = 'Número de eventos' )"
   ]
  },
  {
   "cell_type": "code",
   "execution_count": null,
   "metadata": {},
   "outputs": [],
   "source": [
    "print('Existen {:} eventos en la base de datos'.format(event_number['event'].sum()))"
   ]
  },
  {
   "cell_type": "markdown",
   "metadata": {},
   "source": [
    "### ¿Cuántos usuarios y usuarias hay en los registros?"
   ]
  },
  {
   "cell_type": "code",
   "execution_count": null,
   "metadata": {},
   "outputs": [],
   "source": [
    "users_number = logs.groupby('exp_id', as_index = False).agg({'user_id':'nunique'})\n",
    "users_number"
   ]
  },
  {
   "cell_type": "code",
   "execution_count": null,
   "metadata": {},
   "outputs": [],
   "source": [
    "tickvals = list(users_number['exp_id'])\n",
    "plot_bar_for_events(users_number,'exp_id', 'user_id', tickvals,\n",
    "                    texttemplate='%{text:.}',\n",
    "                    title = \"Número de usuarios en cada prueba\",\n",
    "                    yaxis_title = 'Número de usuarios' )"
   ]
  },
  {
   "cell_type": "code",
   "execution_count": null,
   "metadata": {},
   "outputs": [],
   "source": [
    "print('Existen {:} usuarios en la base de datos'.format(users_number['user_id'].sum()))"
   ]
  },
  {
   "cell_type": "code",
   "execution_count": null,
   "metadata": {},
   "outputs": [],
   "source": [
    "print('El número de usuarios únicos es {:}'.format(logs['user_id'].nunique()))"
   ]
  },
  {
   "cell_type": "markdown",
   "metadata": {},
   "source": [
    "### ¿Cuál es el promedio de eventos por usuario?\n",
    "#### Todos los eventos"
   ]
  },
  {
   "cell_type": "code",
   "execution_count": null,
   "metadata": {},
   "outputs": [],
   "source": [
    "users_events = (\n",
    "    logs.groupby('user_id', as_index = False).agg({'event':'count'})\n",
    ")\n",
    "users_events = users_events.rename(columns = {'event':'count_events'})\n",
    "users_events[:4]"
   ]
  },
  {
   "cell_type": "markdown",
   "metadata": {},
   "source": [
    "- Distribución del número de eventos por usuario."
   ]
  },
  {
   "cell_type": "code",
   "execution_count": null,
   "metadata": {},
   "outputs": [],
   "source": [
    "fig = px.scatter(users_events, x='user_id', y='count_events')\n",
    "fig.update_layout(\n",
    "        title='Distribución del número de eventos por usuario.',\n",
    "        xaxis_tickfont_size=14,\n",
    "        yaxis=dict(\n",
    "            title='Número de eventos',\n",
    "            titlefont_size=16,\n",
    "            tickfont_size=14,\n",
    "        ),\n",
    "        xaxis=dict(\n",
    "            title='Usuarios',\n",
    "            titlefont_size=16,\n",
    "            tickfont_size=14,\n",
    "            tickmode = 'array',\n",
    "            tickvals = []\n",
    "        ))\n",
    "fig.show()"
   ]
  },
  {
   "cell_type": "markdown",
   "metadata": {},
   "source": [
    "Existen valores anormalmente grandes."
   ]
  },
  {
   "cell_type": "code",
   "execution_count": null,
   "metadata": {},
   "outputs": [],
   "source": [
    "percentile_dict = [95, 99]\n",
    "percentile = np.percentile(users_events['count_events'], percentile_dict)\n",
    "print('No más del {:}% de los usuarios tuvieron más de {:.0f} eventos'.format(100 - percentile_dict[0],percentile[0]))\n",
    "print('No más del {:}% de los usuarios tuvieron más de {:.0f} eventos'.format(100 - percentile_dict[1],percentile[1]))"
   ]
  },
  {
   "cell_type": "markdown",
   "metadata": {},
   "source": [
    "- Voy a crear una lista de usuarios con una cantidad anormalmente grande de eventos."
   ]
  },
  {
   "cell_type": "code",
   "execution_count": null,
   "metadata": {},
   "outputs": [],
   "source": [
    "user_anomalies = list(users_events[users_events.count_events > percentile[1]]['user_id'])\n",
    "print('{:} usuarios tuvieron más de {:.0f} eventos'.format(len(user_anomalies),percentile[1]))"
   ]
  },
  {
   "cell_type": "markdown",
   "metadata": {},
   "source": [
    "- Remuevo outliers"
   ]
  },
  {
   "cell_type": "code",
   "execution_count": null,
   "metadata": {},
   "outputs": [],
   "source": [
    "logs_clean = logs.query('user_id not in @user_anomalies')"
   ]
  },
  {
   "cell_type": "code",
   "execution_count": null,
   "metadata": {},
   "outputs": [],
   "source": [
    "exp_users_events_mean = (\n",
    "    logs_clean.groupby(['exp_id','user_id'], as_index = False).agg({'event':'count'})\n",
    "    .groupby('exp_id',as_index = False).agg({'event':'mean'})\n",
    ")\n",
    "exp_users_events_mean"
   ]
  },
  {
   "cell_type": "code",
   "execution_count": null,
   "metadata": {},
   "outputs": [],
   "source": [
    "tickvals = list(exp_users_events_mean['exp_id'])\n",
    "plot_bar_for_events(exp_users_events_mean,'exp_id', 'event', tickvals,\n",
    "                    texttemplate='%{text:.3s}',\n",
    "                    title = \"Número medio de eventos por usuario en cada prueba\",\n",
    "                    yaxis_title = 'Número medio de eventos por usuario' )"
   ]
  },
  {
   "cell_type": "code",
   "execution_count": null,
   "metadata": {},
   "outputs": [],
   "source": [
    "users_events_mean = logs_clean.groupby('user_id').agg({'event':'count'}).mean()\n",
    "print('Existen {:.1f} eventos en promedio por usuario'.format(users_events_mean[0]))"
   ]
  },
  {
   "cell_type": "markdown",
   "metadata": {},
   "source": [
    "#### Eventos Únicos"
   ]
  },
  {
   "cell_type": "code",
   "execution_count": null,
   "metadata": {},
   "outputs": [],
   "source": [
    "users_unique_events_mean = (\n",
    "    logs_clean.groupby(['exp_id','user_id'], as_index = False).\n",
    "    agg({'event':'nunique'}).\n",
    "    groupby('exp_id', as_index = False).\n",
    "    agg({'event':'mean'})\n",
    ")\n",
    "users_unique_events_mean"
   ]
  },
  {
   "cell_type": "code",
   "execution_count": null,
   "metadata": {},
   "outputs": [],
   "source": [
    "tickvals = list(users_unique_events_mean['exp_id'])\n",
    "plot_bar_for_events(users_unique_events_mean,'exp_id', 'event', tickvals,\n",
    "                    texttemplate='%{text:.3s}',\n",
    "                    title = \"Número promedio de eventos únicos por usuario en cada prueba\",\n",
    "                    yaxis_title = 'Número promedio de eventos únicos por usuario' )"
   ]
  },
  {
   "cell_type": "markdown",
   "metadata": {},
   "source": [
    "Los datos muestran que la mayoría de los usuarios han avanzado más allá de las etapas iniciales y están activamente comprometidos en el proceso.\n",
    "\n"
   ]
  },
  {
   "cell_type": "markdown",
   "metadata": {},
   "source": [
    "### ¿Qué periodo de tiempo cubren los datos?"
   ]
  },
  {
   "cell_type": "code",
   "execution_count": null,
   "metadata": {},
   "outputs": [],
   "source": [
    "event_date_first = logs_clean['datetime'].min()\n",
    "print('{:} inicio de la recopilación de datos'.format(event_date_first))"
   ]
  },
  {
   "cell_type": "code",
   "execution_count": null,
   "metadata": {},
   "outputs": [],
   "source": [
    "event_date_last = logs_clean['datetime'].max()\n",
    "print('{:} final de la recopilación de datos'.format(event_date_last))"
   ]
  },
  {
   "cell_type": "code",
   "execution_count": null,
   "metadata": {},
   "outputs": [],
   "source": [
    "fig = px.histogram(logs_clean,\n",
    "                   x=\"date\",\n",
    "                   color = 'exp_id', \n",
    "                   title=\"Distribución del número de eventos por fecha\",\n",
    "                   barmode = \"stack\",\n",
    "                   color_discrete_sequence=color_dict,\n",
    "                   labels = {'exp_id': 'Experiment №:'}\n",
    "                  )\n",
    "fig.update_layout(yaxis_title=\"Number of Events\",xaxis_title=\"Date\")\n",
    "\n",
    "fig.show()"
   ]
  },
  {
   "cell_type": "markdown",
   "metadata": {},
   "source": [
    "Antes del 1 de agosto de 2019, los datos parecen estar incompletos. Esto podría atribuirse a un problema técnico o a un mecanismo de recopilación de datos configurado incorrectamente. Es posible que no se hayan recopilado datos de todas las regiones o tipos de dispositivos móviles. En términos más simples, es probable que se haya instalado un filtro que descartó la mayoría de los datos."
   ]
  },
  {
   "cell_type": "markdown",
   "metadata": {},
   "source": [
    "### ¿Se perdieron muchos eventos y usuarios al excluir los datos más antiguos?"
   ]
  },
  {
   "cell_type": "code",
   "execution_count": null,
   "metadata": {},
   "outputs": [],
   "source": [
    "logs_clean_v2 = logs_clean[np.logical_and(logs_clean['date'] > \"2019-07-31\",\n",
    "                                          logs_clean['date'] < \"2019-08-08\")]"
   ]
  },
  {
   "cell_type": "code",
   "execution_count": null,
   "metadata": {},
   "outputs": [],
   "source": [
    "users_lost = logs_clean['user_id'].nunique() - logs_clean_v2['user_id'].nunique()\n",
    "\n",
    "event_lost = logs_clean['event'].count() - logs_clean_v2['event'].count()\n",
    "logs_clean = logs_clean_v2\n"
   ]
  },
  {
   "cell_type": "code",
   "execution_count": null,
   "metadata": {},
   "outputs": [],
   "source": [
    "specs = [[{'type':'domain'}, {'type':'domain'}]]\n",
    "fig = make_subplots(rows=1, cols=2, specs=specs)\n",
    "\n",
    "fig.add_trace(go.Pie(labels=['Data Eliminada','Buena Data'], \n",
    "                     values=[users_lost,\n",
    "                             logs_clean['user_id'].nunique()], \n",
    "                     marker_colors=color_dict, \n",
    "                     title = \"Usuarios\", \n",
    "                     rotation = 290), 1, 1)\n",
    "fig.add_trace(go.Pie(labels=['Data Eliminada','Buena Data'], \n",
    "                     values=[event_lost,\n",
    "                             logs_clean['event'].count()],\n",
    "                     marker_colors=color_dict, \n",
    "                     title = \"Eventos\", \n",
    "                     rotation = 305), 1, 2)\n",
    "\n",
    "fig.update(layout_title_text='Proporción de datos eliminados y restantes',\n",
    "           layout_showlegend=True,layout_font_size = 20 )\n",
    "\n",
    "fig.update_traces(\n",
    "    hoverinfo='label',\n",
    "    textinfo='percent',\n",
    "    textfont_size=16,\n",
    "    marker=dict(\n",
    "        colors = color_dict,\n",
    "        line = dict(\n",
    "            color='#000000',\n",
    "            width=2)\n",
    "    )\n",
    ")\n",
    "\n",
    "fig = go.Figure(fig)\n",
    "fig.show()"
   ]
  },
  {
   "cell_type": "code",
   "execution_count": null,
   "metadata": {},
   "outputs": [],
   "source": [
    "fig = px.histogram(logs_clean,\n",
    "                   x=\"datetime\",\n",
    "                   color = 'exp_id', \n",
    "                   title=\"Distribución del número de eventos por fecha\",\n",
    "                   barmode = \"stack\",\n",
    "                   color_discrete_sequence=color_dict,\n",
    "                   nbins = 84,\n",
    "                   labels = {'exp_id': 'Experimento №:'}\n",
    "                  )\n",
    "fig.update_layout(yaxis_title=\"Número de eventos\",xaxis_title=\"Date\")\n",
    "\n",
    "fig.show()"
   ]
  },
  {
   "cell_type": "markdown",
   "metadata": {},
   "source": [
    "He descartado una cantidad insignificante de datos (menos del 0,2% de los usuarios y menos del 1% de los eventos). Los datos ahora son consistentes durante todo el período analizado."
   ]
  },
  {
   "cell_type": "markdown",
   "metadata": {},
   "source": [
    "<div class=\"alert alert-block alert-danger\">\n",
    "\n",
    "<b>Comentario del revisor</b> <a class=\"tocSkip\"></a>\n",
    "\n",
    "Muy bien, hiciste un gran análisis exploratorio, a continuación algunos comentarios:\n",
    "    \n",
    "<ul>\n",
    "    <li>Muy bien por los datos iniciales de eventos, usuarios y media, está bien determinado. Además puedes usar métodos como ceil, floor o round para hacer explicito el valor de media como entera desde el código y también al imprimir, no hay necesidad de usar decimales, aunque para este caso tampoco representa un problema o error. Es útil para un analista usar los valores en términos que la audiencia objetivo le sea más fácil entender, la combinación entre técnica y lógica de negocio!</li>\n",
    "    <li>No existe motivo para eliminar los outliers. El análisis de outliers es uno de los más importantes que existen pues manifiestan los mayores problemas que puede manifestar un dataset o en algunos casos, situaciones que queremos enfrentar, el hecho de removerlos o dejarlos es algo que depende de cada problema, por ejemplo cuando sabemos que se deben a errores de la medición o internos del sistema, habría necesidad o minimamente no habría problema en eliminarlos, por otra parte cuando tratamos un problema de riesgo bancario donde los outliers representan manifestaciones del riesgo, se vuelve contraproducente eliminarlos. En este caso, que algunos usuarios usen mucho la aplicación no implica motivo para eliminarlos, pues no se ha hecho un análisis si se debe a uso, seguridad o fallas apropiado.</li>\n",
    "    <li>Bien el análisis por  por fecha, te sugiero que lo hagas más granular y los logs antiguos no solo los estimes por la fecha si no también por la hora en la cuál se consideran antiguos, de esta manera puedes llegar al punto más detallado en esto! </li>\n",
    "    <li>Muy Bien por la forma en que se hizo el análisis de los datos con anomalías, en este caso los datos antiguos debido a su carencia de información estuvo todo muy correcto en el orden adecuado para ubicar el punto preciso desde donde se deben interpretar los datos antiguos, te sugiero que cuando lo hagas incluyendo la hora, lo hagas de forma análoga. Esta habilidad de ser preciso es una virtud muy buscada en un analista de datos que salga de análisis generales y sea capaz de ser preciso y habil para manejar situaciones atípicas.</li>\n",
    "    <li>Excelente el análisis gráfico. Tienes una habilidad y prácticas en torno a la visualización de tus resultados que es propia de un científico de datos que ya se desempeña en esto, no solamente por siempre acompañar con un gráfico pertienente tus observaciones, si no por lo estético que son estos, nunca dejes de hacer esto, tanto en la pertinencia sabiendo donde, cuál y cómo ubicarlos, como en términos estéticos.</li>\n",
    "    <li>Muy buien por la tabla de usuarios por cada grupo experimental, suficientemente explicativa.</li>\n",
    "</ul>\n",
    "</div>"
   ]
  },
  {
   "cell_type": "markdown",
   "metadata": {},
   "source": [
    "<div class=\"alert alert-block alert-info\"><b>Agradezco tus comentarios!</b>\n",
    "\n",
    "Con respecto a los outliers, al examinar la distribución de eventos por usuario, consideré necesario identificar los valores atípicos primero. Antes de eliminar estos puntos de datos anómalos, observé la presencia de valores anormalmente altos.\n",
    "Por esto mismo, establecí umbrales de valores atípicos, filtrando normalmente el 1-5% más extremo de los valores observados.\n",
    "\n",
    "Entiendo y respeto tu perspectiva sobre la importancia del análisis de valores atípicos. Sin embargo, creo que la eliminación de valores atípicos en este caso está justificada por la distorsión de la distribución de datos, ya que al eliminar estos valores atípicos ha ayudado a preservar la distribución subyacente de los datos como tal, evitando que los valores extremos distorsionen la representación general.\n",
    "\n",
    "Aparte que me permite centrarme en los patrones y tendencias más prevalentes entre la mayoría de los usuarios. Hasta donde tengo entendido, al reducir la influencia de los valores extremos, estos algoritmos pueden producir resultados más fiables que reflejen mejor la distribución subyacente de los datos. En este caso, la eliminación de los valores extremos más extremos (del 1 al 5%) me ha ayudado a mantener una imagen más precisa del recuento de eventos típico de un usuario.\n",
    "O al menos así es como lo percibo."
   ]
  },
  {
   "cell_type": "markdown",
   "metadata": {},
   "source": [
    "## Estudiar el embudo de eventos\n",
    "### Análisis de eventos registrados en el registro."
   ]
  },
  {
   "cell_type": "code",
   "execution_count": null,
   "metadata": {},
   "outputs": [],
   "source": [
    "events_share = (\n",
    "    logs_clean.\n",
    "    groupby('event').\n",
    "    agg({'user_id':'count'}).\n",
    "    sort_values(by = 'user_id', ascending = False)\n",
    ")\n",
    "events_share"
   ]
  },
  {
   "cell_type": "code",
   "execution_count": null,
   "metadata": {},
   "outputs": [],
   "source": [
    "events_share = (\n",
    "    logs_clean.groupby('event').agg({'user_id':'count'}).sort_values(by = 'user_id', ascending = False)\n",
    "    /\n",
    "    logs_clean['event'].count()\n",
    ")\n",
    "events_share = events_share.reset_index().rename(columns = {'user_id':'share'})\n",
    "events_share"
   ]
  },
  {
   "cell_type": "code",
   "execution_count": null,
   "metadata": {},
   "outputs": [],
   "source": [
    "fig = go.Figure()\n",
    "fig.add_trace(go.Bar(x=events_share.share,\n",
    "                     y=events_share.event,\n",
    "                     text=events_share.share,\n",
    "                     orientation='h',\n",
    "                     marker=dict(\n",
    "                         color='rgba(210, 88, 16, 0.6)',\n",
    "                         line=dict(\n",
    "                             color='rgba(50, 171, 96, 1.0)',\n",
    "                             width=1),\n",
    "                     )\n",
    "                    ))\n",
    "\n",
    "fig.update_traces(\n",
    "    texttemplate='%{text:.1%}',\n",
    "    textposition='outside',\n",
    "    textfont_size=14)\n",
    "\n",
    "fig.update_layout(\n",
    "    title='Frecuencia de eventos en el registro',\n",
    "    xaxis=dict(\n",
    "        title='Participación',\n",
    "        titlefont_size=16,\n",
    "        tickfont_size=14, \n",
    "        tickformat=\".0%\",\n",
    "        range=[0, 0.6]\n",
    "    ),\n",
    "    yaxis=dict(\n",
    "        title='Evento',\n",
    "        titlefont_size=16,\n",
    "        tickfont_size=14,\n",
    "        autorange=\"reversed\"\n",
    "    ),\n",
    "    bargroupgap=0.2 \n",
    ")\n",
    "fig.show()"
   ]
  },
  {
   "cell_type": "markdown",
   "metadata": {},
   "source": [
    "El registro registra cinco tipos diferentes de eventos. El evento más frecuente es \"MainScreenAppear\", que representa más del 55%. Esto no es sorprendente, ya que significa que el usuario ha iniciado la aplicación. El evento menos común es \"Tutorial\", que no es obligatorio para realizar una compra."
   ]
  },
  {
   "cell_type": "markdown",
   "metadata": {},
   "source": [
    "### Cantidad de usuarios y usuarias que realizaron cada una de estas acciones."
   ]
  },
  {
   "cell_type": "code",
   "execution_count": null,
   "metadata": {},
   "outputs": [],
   "source": [
    "event_number_users = (\n",
    "    logs_clean.\n",
    "    groupby('event', as_index = False).\n",
    "    agg({'user_id':'nunique'}).\n",
    "    sort_values(by = 'user_id', ascending = False)\n",
    ")\n",
    "event_number_users"
   ]
  },
  {
   "cell_type": "markdown",
   "metadata": {},
   "source": [
    "He determinado el número de usuarios para cada evento. Sin embargo, debo verificar si hay datos anómalos que afectarán el número de usuarios en cada evento."
   ]
  },
  {
   "cell_type": "markdown",
   "metadata": {},
   "source": [
    "Comprobaré las siguientes situaciones:\n",
    "\n",
    "- El usuario no tiene información sobre un evento MainScreenAppear.\n",
    "- El usuario tiene un evento PaymentScreenSuccessful, pero ningún evento CartScreenAppear"
   ]
  },
  {
   "cell_type": "code",
   "execution_count": null,
   "metadata": {},
   "outputs": [],
   "source": [
    "main_event_users = (\n",
    "    list(logs_clean.\n",
    "         loc[logs_clean.loc[:,'event'] == 'MainScreenAppear']['user_id'].\n",
    "         drop_duplicates())\n",
    ")"
   ]
  },
  {
   "cell_type": "code",
   "execution_count": null,
   "metadata": {},
   "outputs": [],
   "source": [
    "user_anomalies = (\n",
    "    list(logs_clean.query('user_id not in @main_event_users')['user_id'].\n",
    "         drop_duplicates())\n",
    ")\n",
    "print(\"{:} son los usuarios que no tienen ningún evento 'MainScreenAppear\".format(len(user_anomalies)))"
   ]
  },
  {
   "cell_type": "code",
   "execution_count": null,
   "metadata": {},
   "outputs": [],
   "source": [
    "cart_event_users = list(logs_clean.loc[logs_clean.loc[:,'event'] == 'CartScreenAppear']['user_id'].drop_duplicates())\n",
    "anomalies_part2 =  (\n",
    "    list(logs_clean.\n",
    "    query('(event == \"PaymentScreenSuccessful\") & (user_id not in @cart_event_users)')['user_id'].\n",
    "    drop_duplicates())\n",
    ")\n",
    "print('{:} son los usuarios que no tienen un evento \"CartScreenAppear\", pero sí tienen un evento \"PaymentScreenSuccessful\".'\n",
    "      .format(len(anomalies_part2)))"
   ]
  },
  {
   "cell_type": "code",
   "execution_count": null,
   "metadata": {},
   "outputs": [],
   "source": [
    "user_anomalies = user_anomalies + anomalies_part2"
   ]
  },
  {
   "cell_type": "markdown",
   "metadata": {},
   "source": [
    "- Voy a eliminar eventos con usuarios anómalos"
   ]
  },
  {
   "cell_type": "code",
   "execution_count": null,
   "metadata": {},
   "outputs": [],
   "source": [
    "logs_clean = logs_clean.query('user_id not in @user_anomalies')"
   ]
  },
  {
   "cell_type": "code",
   "execution_count": null,
   "metadata": {},
   "outputs": [],
   "source": [
    "event_times = (\n",
    "    logs_clean.query('event in (\"CartScreenAppear\",\"MainScreenAppear\",\"OffersScreenAppear\",\"PaymentScreenSuccessful\")').\n",
    "    pivot_table(index = 'user_id', columns= 'event', values= 'datetime', aggfunc = ['first','last'])\n",
    ")\n",
    "event_times.columns = ['cart_first','main_first','offer_first','payment_first',\n",
    "                       'cart_last','main_last','offer_last','payment_last']"
   ]
  },
  {
   "cell_type": "code",
   "execution_count": null,
   "metadata": {},
   "outputs": [],
   "source": [
    "event_times = event_times.reset_index()"
   ]
  },
  {
   "cell_type": "markdown",
   "metadata": {},
   "source": [
    "- También debo comprobar si este evento existe realmente o se trata de un error técnico del servidor.\n",
    "Supondré que los datos del evento no son anómalos en las siguientes condiciones:\n",
    "\n",
    "1. Hay un evento oferta si su fecha es posterior al evento principal\n",
    "2. Hay un evento cesta si su fecha es posterior al evento principal\n",
    "3. Hay un evento pago si su fecha es posterior al evento cesta y el evento cesta existe"
   ]
  },
  {
   "cell_type": "code",
   "execution_count": null,
   "metadata": {},
   "outputs": [],
   "source": [
    "event_times['exist_offer']    = event_times['offer_last'] >= event_times['main_first']\n",
    "event_times['exist_cart']     = event_times['cart_last']  >= event_times['main_first']\n",
    "event_times['exist_payment']  = (\n",
    "    (event_times['payment_last']  >= event_times['cart_first']) \n",
    "    &\n",
    "    (event_times['exist_cart'] == True)\n",
    ")\n",
    "event_times[:5]"
   ]
  },
  {
   "cell_type": "markdown",
   "metadata": {},
   "source": [
    "He creado una tabla que identifica qué eventos son válidos para cada usuario y cuáles son errores técnicos. Esta tabla solo incluye usuarios para los que el evento MainScreenAppear es válido, ya que este evento es crucial para este análisis. Los eventos de tutoriales se excluyen de esta tabla, ya que no son obligatorios para el embudo de ventas. Seguiré analizando el número de eventos de tutoriales, pero no afectará la integridad de mi embudo."
   ]
  },
  {
   "cell_type": "markdown",
   "metadata": {},
   "source": [
    "- Lista de usuarios por cada evento"
   ]
  },
  {
   "cell_type": "code",
   "execution_count": null,
   "metadata": {},
   "outputs": [],
   "source": [
    "event_offer_users = list(event_times[event_times.exist_offer == True].user_id)\n",
    "event_cart_users = list(event_times[event_times.exist_cart == True].user_id)\n",
    "event_payment_users = list(event_times[event_times.exist_payment == True].user_id)"
   ]
  },
  {
   "cell_type": "code",
   "execution_count": null,
   "metadata": {},
   "outputs": [],
   "source": [
    "def check_existing_event(item):\n",
    "    if (item['event'] == 'OffersScreenAppear') & (item['user_id'] not in event_offer_users):\n",
    "        return True\n",
    "    elif (item['event'] == 'CartScreenAppear') & (item['user_id'] not in event_cart_users):\n",
    "        return True\n",
    "    elif (item['event'] == 'PaymentScreenSuccessful') & (item['user_id'] not in event_payment_users):\n",
    "        return True        \n",
    "    else:\n",
    "        return False\n",
    "    \n",
    "\n",
    "logs_clean['drop'] = logs_clean.apply(check_existing_event, axis = 1)"
   ]
  },
  {
   "cell_type": "code",
   "execution_count": null,
   "metadata": {},
   "outputs": [],
   "source": [
    "print('Se encontraron {:} eventos inexistentes'.format(len(logs_clean[logs_clean['drop'] == True])))"
   ]
  },
  {
   "cell_type": "code",
   "execution_count": null,
   "metadata": {},
   "outputs": [],
   "source": [
    "logs_clean = logs_clean[logs_clean['drop'] == False].reset_index(drop = False)\n",
    "print(' {:} eventos inexistentes'.format(len(logs_clean[logs_clean['drop'] == True])))"
   ]
  },
  {
   "cell_type": "markdown",
   "metadata": {},
   "source": [
    "- Voy a contar la cantidad de usuarios que realizaron cada acción después de que elimine las anomalías."
   ]
  },
  {
   "cell_type": "code",
   "execution_count": null,
   "metadata": {},
   "outputs": [],
   "source": [
    "event_number_users_unfiltred = event_number_users"
   ]
  },
  {
   "cell_type": "code",
   "execution_count": null,
   "metadata": {},
   "outputs": [],
   "source": [
    "event_number_users = (\n",
    "    logs_clean.\n",
    "    groupby('event', as_index = False).\n",
    "    agg({'user_id':'nunique'}).\n",
    "    sort_values(by = 'user_id', ascending = False)\n",
    ")\n",
    "event_number_users"
   ]
  },
  {
   "cell_type": "code",
   "execution_count": null,
   "metadata": {},
   "outputs": [],
   "source": [
    "event_number_users = event_number_users.merge(event_number_users_unfiltred, on = 'event')\n",
    "event_number_users.columns = ['event','count','count_unfiltred']"
   ]
  },
  {
   "cell_type": "code",
   "execution_count": null,
   "metadata": {},
   "outputs": [],
   "source": [
    "event_number_users['ratio_lose'] = (event_number_users['count_unfiltred'] / event_number_users['count']-1) \n",
    "event_number_users.style.format({'ratio_lose': \"{:.2%}\"})"
   ]
  },
  {
   "cell_type": "markdown",
   "metadata": {},
   "source": [
    "El proceso de limpieza de datos resultó en una reducción en el número de usuarios únicos para cada evento. El porcentaje de datos erróneos varió entre el 3% y el 7%, según el evento específico."
   ]
  },
  {
   "cell_type": "code",
   "execution_count": null,
   "metadata": {},
   "outputs": [],
   "source": [
    "fig = go.Figure()\n",
    "fig.add_trace(go.Bar(x=event_number_users['count'].unique(),\n",
    "                     y=event_number_users['event'],\n",
    "                     text=event_number_users['count'],\n",
    "                     orientation='h',\n",
    "                     marker=dict(\n",
    "                         color='rgba(5, 23, 41, 0.6)',\n",
    "                         line=dict(\n",
    "                             color='rgba(50, 171, 96, 1.0)',\n",
    "                             width=1)\n",
    "                     )\n",
    "                    ))\n",
    "\n",
    "\n",
    "fig.update_traces(\n",
    "    texttemplate='%{text:}',\n",
    "    textposition='outside',\n",
    "    textfont_size=14)\n",
    "\n",
    "fig.update_layout(\n",
    "    title='Número de usuarios que han realizado cada una de estas acciones.',\n",
    "    xaxis=dict(\n",
    "        title='Número de usuarios',\n",
    "        titlefont_size=16,\n",
    "        tickfont_size=14, \n",
    "        range=[0, 8000]\n",
    "    ),\n",
    "    yaxis=dict(\n",
    "        title='Evento',\n",
    "        titlefont_size=16,\n",
    "        tickfont_size=14,\n",
    "        autorange=\"reversed\"\n",
    "    ),\n",
    "    bargroupgap=0.1 \n",
    ")\n",
    "fig.show()"
   ]
  },
  {
   "cell_type": "markdown",
   "metadata": {},
   "source": [
    "Conté el número de usuarios que completaron cada evento y ordené los eventos en orden decreciente según el número de usuarios."
   ]
  },
  {
   "cell_type": "markdown",
   "metadata": {},
   "source": [
    "### La secuencia de acciones del usuario."
   ]
  },
  {
   "cell_type": "markdown",
   "metadata": {},
   "source": [
    "Anteriormente, identifiqué el número de usuarios que completaron cada evento. Dado que se sabe que el número de usuarios suele disminuir con cada etapa del embudo de ventas, se puede inferir el orden de los eventos.\n",
    "\n",
    "La progresión del embudo de ventas es la siguiente:\n",
    "\n",
    "1. Aparece la pantalla principal\n",
    "2. Aparece la pantalla de oferta\n",
    "3. Aparece la pantalla de carrito\n",
    "4. Pantalla de pago exitoso"
   ]
  },
  {
   "cell_type": "markdown",
   "metadata": {},
   "source": [
    "### Calcular el embudo de eventos"
   ]
  },
  {
   "cell_type": "code",
   "execution_count": null,
   "metadata": {},
   "outputs": [],
   "source": [
    "fig = go.Figure(go.Funnel(\n",
    "    y = event_number_users[event_number_users.event != 'Tutorial']['event'],\n",
    "    x = event_number_users['count']\n",
    "    ))\n",
    "fig.show()"
   ]
  },
  {
   "cell_type": "markdown",
   "metadata": {},
   "source": [
    "Embudos de eventos para cada experimento."
   ]
  },
  {
   "cell_type": "code",
   "execution_count": null,
   "metadata": {},
   "outputs": [],
   "source": [
    "funnel_by_groups = []\n",
    "for i in logs_clean.exp_id.unique():\n",
    "    group = (logs_clean[logs_clean.exp_id == i].\n",
    "             groupby(['event','exp_id'], as_index = False).\n",
    "             agg({'user_id':'nunique'}).\n",
    "             sort_values(by = 'user_id', ascending = False)\n",
    "            )\n",
    "    funnel_by_groups.append(group)\n",
    "funnel_by_groups = pd.concat(funnel_by_groups).sort_values(by = 'exp_id')"
   ]
  },
  {
   "cell_type": "code",
   "execution_count": null,
   "metadata": {},
   "outputs": [],
   "source": [
    "fig = px.funnel(funnel_by_groups[funnel_by_groups.event != 'Tutorial'],\n",
    "                x = 'user_id', \n",
    "                y = 'event', \n",
    "                color = 'exp_id', \n",
    "                labels = {'exp_id': 'Experimento №:'} )\n",
    "fig.update_layout(\n",
    "        title='Embudos de eventos para cada experimento',\n",
    "        xaxis_tickfont_size=14,\n",
    "        yaxis=dict(\n",
    "            title='Eventos  (número de usuarios)',\n",
    "            titlefont_size=16,\n",
    "            tickfont_size=14,\n",
    "        ))\n",
    "\n",
    "fig.show()"
   ]
  },
  {
   "cell_type": "markdown",
   "metadata": {},
   "source": [
    "Parece que en todos los experimentos hay una cantidad similar de gente que se pierde entre los eventos. El siguiente paso es ver exactamente qué porcentaje de usuarios se nos escapa al pasar de un evento a otro, y en qué parte del proceso se nos va la mayor cantidad de gente."
   ]
  },
  {
   "cell_type": "markdown",
   "metadata": {},
   "source": [
    "### ¿En qué etapa pierdes más usuarios y usuarias?"
   ]
  },
  {
   "cell_type": "code",
   "execution_count": null,
   "metadata": {},
   "outputs": [],
   "source": [
    "funnel_shift = event_number_users[['event','count']]\n",
    "funnel_shift['perc_ch'] = funnel_shift['count'].pct_change()\n",
    "funnel_shift.style.format({'perc_ch': \"{:.2%}\"})"
   ]
  },
  {
   "cell_type": "markdown",
   "metadata": {},
   "source": [
    "Es evidente que la mayoría de los usuarios se pierden en la transición de la pantalla principal a la de ofertas (más del 40%). Esto podría deberse a que la oferta no resulta lo suficientemente atractiva para los clientes o a que existen problemas técnicos, como por ejemplo, la falta de claridad en el proceso de compra. En contraste, solo el 8.7% de los usuarios que llegan a la pantalla del carrito no completan la compra, lo que constituye un indicador bastante positivo."
   ]
  },
  {
   "cell_type": "markdown",
   "metadata": {},
   "source": [
    "### ¿Qué porcentaje de usuarios y usuarias hace todo el viaje desde su primer evento hasta el pago?"
   ]
  },
  {
   "cell_type": "code",
   "execution_count": null,
   "metadata": {},
   "outputs": [],
   "source": [
    "share_users_reach_event = event_number_users[['event','count']]\n",
    "share_users_reach_event['share_lost'] = (\n",
    "    event_number_users['count'] \n",
    "    / \n",
    "    event_number_users[event_number_users.event == \"MainScreenAppear\"]['count'].iloc[0]\n",
    ")\n",
    "share_users_reach_event.style.format({'share_lost': \"{:.2%}\"})"
   ]
  },
  {
   "cell_type": "code",
   "execution_count": null,
   "metadata": {},
   "outputs": [],
   "source": [
    "share_users_reach_goal = (\n",
    "    event_number_users[event_number_users.event == \"PaymentScreenSuccessful\"]['count'].iloc[0]\n",
    "    /\n",
    "    event_number_users[event_number_users.event == \"MainScreenAppear\"]['count'].iloc[0]\n",
    ")\n",
    "print('En promedio, el {:.0%} de usuarios que utilizan la aplicación realizan una compra.'.format(share_users_reach_goal))"
   ]
  },
  {
   "cell_type": "markdown",
   "metadata": {},
   "source": [
    "# Conclusión:\n",
    "\n",
    "Vemos que el 60 % de los usuarios llega a la etapa de la oferta. El 48 % de los usuarios llega a la etapa del carrito de compras. El 44 % de los usuarios realiza una compra, es decir, llega al último paso del embudo de ventas. Solo el 11 % de los usuarios visita la página del tutorial, lo que indica que es difícil de encontrar o que la mayoría de los usuarios no necesitan leerlo.\n",
    "\n",
    "Para aumentar la conversión del embudo de ventas, se debe aumentar la conversión en su eslabón más débil, que en este caso es la transición de la pantalla \"Principal\" a la pantalla \"Oferta\". En este paso, se pierden más del 40 % de los clientes. Tal vez la oferta no sea lo suficientemente atractiva para los clientes, o puede haber problemas técnicos, por ejemplo, no está intuitivamente claro dónde hacer clic para realizar una compra. En cualquier caso, es necesario prestar atención a este problema y resolverlo junto con los equipos de marketing y los diseñadores de UX."
   ]
  },
  {
   "cell_type": "markdown",
   "metadata": {},
   "source": [
    "<div class=\"alert alert-block alert-danger\">\n",
    "\n",
    "<b>Comentario del revisor</b> <a class=\"tocSkip\"></a>\n",
    "\n",
    "Muy bien, hiciste un conciso análisis exploratorio de datos, a continuación algunos comentarios:\n",
    "    \n",
    "<ul>\n",
    "    <li>En general, al remover los outliers de usuarios con muchos eventos si bien parecen pocos usuarios, removiste los usuarios que más visitan la aplicación y has removido una cantidad sustancial de logs que afectan el análisis posterior por lo tanto los datos no son precisamente los esperados, es necesario volver a realizar el análisis sin remover los outliers. A partir de ahora no haré referencia a estos errores numéricos!.</li>\n",
    "    <li>Bien en este caso no había mucho problema de acuerdo a la lógica de negocio en eliminar estos usuarios con situaciones anómalas, lo recomendable es investigar directamente estos usuarios para entender esto y darle una mejor explicación, un analista de un equipo de auditoría debería hacer esto si no se tiene una explicación apriori.</li>\n",
    "    <li>Excelente análisis de eventos que puedan ser inexistentes. En una situación real, este tipo de situaciones se debe contrastar con la lógica de negocio o la posibilidad de acceso a endpoints o vistas de forma independiente, esto es una tarea de un ingeniero de datos, pero lo que acabaste de hacer aquí es algo bastante similar a esa tarea, Muy bien!</li>\n",
    "    <li>Esto no es necesario pero si te interesa: ¿Te gustaría explicar por qué a pesar que los datos de los eventos estén afectados por remover los outliers, las conclusiones del embudo siguen siendo muy acertadas? Si prefieres que yo te lo diga, comentalo!</li>\n",
    "    <li>Excelente análisis del embudo, no solamente por esos gráficos tan demostrativos y buenos, si no porque llegaste a las conclusiones acertadas respecto al abandono en términos técnicos y además complementaste con algo más importante, un análisis dentro de la lógica de negocio respecto a esa posibilidad de fuga entre etapas.</li>\n",
    "</ul>\n",
    "</div>"
   ]
  },
  {
   "cell_type": "markdown",
   "metadata": {},
   "source": [
    "<div class=\"alert alert-block alert-info\"><b>Agradezco nuevamente tus comentarios.</b>\n",
    "\n",
    "\n",
    "Si me gustaría saber de que manera han afectado el anális posterior? y en todo caso cuales son los datos que se esperan? Me gustaría entender a detalle, también basado en mi última conclusión y los porcentajes y números que logré identificar.\n",
    "    \n",
    "\n",
    "- Las conclusiones del embudo siguen siendo muy acertadas a pesar de eliminar los outliers porque los outliers solo representan una pequeña proporción de los datos. En este caso, solamente se eliminó el 1-5% de los datos más extremos. Esto significa que la gran mayoría de los datos (95-99%) no se vieron afectados por la eliminación de los outliers para nada.\n",
    "\n",
    "Los outliers no sesgan las conclusiones del embudo, ya que existen patrones y tendencias consistentes en todos los niveles del embudo, tanto para los datos con outliers como para los datos sin outliers. Por esto mismo, repito, los outliers no afectan significativamente el comportamiento de los usuarios.\n",
    "\n",
    "Por supuesto, que es importante investigar los outliers para comprender su causa. En algunos casos, yo tengo muy claro que los outliers pueden representar problemas reales que deben abordarse. Sin embargo, en la mayoría de los casos, como este también, los outliers son simplemente datos atípicos que no afectan significativamente las conclusiones del embudo.\n",
    "\n",
    "- Me gustaría saber tu punto de vista, o tu respuesta a la pregunta, puede que existan otras razones que yo desconozco. \n",
    "Gracias! <a class=\"tocSkip\"></a>\n",
    "    </div>"
   ]
  },
  {
   "cell_type": "markdown",
   "metadata": {},
   "source": [
    "## Estudiar los resultados del experimento\n",
    "### ¿Cuántos usuarios y usuarias hay en cada grupo?"
   ]
  },
  {
   "cell_type": "code",
   "execution_count": null,
   "metadata": {},
   "outputs": [],
   "source": [
    "users_number = logs_clean.groupby('exp_id', as_index = False).agg({'user_id':'nunique'})\n",
    "users_number"
   ]
  },
  {
   "cell_type": "code",
   "execution_count": null,
   "metadata": {},
   "outputs": [],
   "source": [
    "tickvals = list(users_number['exp_id'])\n",
    "plot_bar_for_events(users_number,'exp_id', 'user_id', tickvals,\n",
    "                    texttemplate='%{text:.}',\n",
    "                    title = \"Número de usuarios en cada experimento\",\n",
    "                    yaxis_title = 'Número de usuario' )"
   ]
  },
  {
   "cell_type": "markdown",
   "metadata": {},
   "source": [
    "Se observa que la cantidad de participantes en cada grupo es prácticamente la misma. La diferencia entre el grupo con el menor número de participantes (No. 246) y el grupo con el mayor número de participantes (No. 248) es de 1.8%."
   ]
  },
  {
   "cell_type": "markdown",
   "metadata": {},
   "source": [
    "### Observa si hay una diferencia estadísticamente significativa entre las muestras 246 y 247."
   ]
  },
  {
   "cell_type": "markdown",
   "metadata": {},
   "source": [
    "Antes de analizar el impacto de un cambio en la interfaz, debo realizar una prueba A/A para garantizar que nuestros datos se recopilen correctamente y no se pierdan durante la transferencia de información.\n",
    "\n",
    "Necesitaré considerar hipótesis para probar la significancia.\n",
    "\n",
    "Hipótesis nula: La proporción observada de clientes que realizan una compra en el Experimento 246 es igual a la proporción de clientes que realizan una compra en el Experimento 247 (H0: p246 = p247).\n",
    "\n",
    "Hipótesis alternativa: La proporción observada de clientes que realizan una compra en el Experimento 246 no es igual a la proporción de clientes que realizan una compra en el Experimento 247 (Ha: p246 ≠ p247).\n",
    "\n",
    "Establezco alfa = 0.05, ya que estoy evaluando una hipótesis para un problema comercial.\n",
    "\n",
    "Dado que se probará hipótesis sobre la identidad de las proporciones, utilizaré la \"Prueba Z de dos proporciones"
   ]
  },
  {
   "cell_type": "code",
   "execution_count": null,
   "metadata": {},
   "outputs": [],
   "source": [
    "pivot = (\n",
    "    logs_clean.pivot_table(index = 'event', \n",
    "                           columns = 'exp_id', \n",
    "                           values = 'user_id', \n",
    "                           aggfunc = 'nunique').\n",
    "    reset_index()\n",
    ")\n",
    "pivot['246+247'] = pivot[246]+pivot[247]\n",
    "pivot"
   ]
  },
  {
   "cell_type": "code",
   "execution_count": null,
   "metadata": {},
   "outputs": [],
   "source": [
    "alpha = 0.05\n",
    "def check_hypothesis(group_A, group_B, event):\n",
    "    \n",
    "    enter_A = pivot[pivot.event == 'MainScreenAppear'][group_A].iloc[0]\n",
    "    enter_B = pivot[pivot.event == 'MainScreenAppear'][group_B].iloc[0]\n",
    "\n",
    "    exit_A  = pivot[pivot.event == event][group_A].iloc[0]\n",
    "    exit_B  = pivot[pivot.event == event][group_B].iloc[0]\n",
    "    \n",
    "    p1 = exit_A / enter_A\n",
    "    p2 = exit_B / enter_B\n",
    "    \n",
    "    p = (exit_A + exit_B) / (enter_A + enter_B)\n",
    "    z_value = (p1 - p2) / (math.sqrt(p * (1 - p) * (1 / (enter_A)+ 1 / (enter_B))))\n",
    "    \n",
    "    distr = st.norm(0, 1) \n",
    "    \n",
    "    p_value = (1 - distr.cdf(abs(z_value))) * 2\n",
    "    print('En el grupo {:} el {:} ocurrió en {:} usuarios, la participación es del {:0.2%}'.\n",
    "          format(group_A,event,exit_A,p1))\n",
    "    print('En el grupo {:} el {:} ocurrió en {:} usuarios, la participación es del {:0.2%}'.\n",
    "          format(group_B,event,exit_B,p2))\n",
    "    \n",
    "    \n",
    "    print('p-value: {:.5f}'.format(p_value))\n",
    "    if (p_value < alpha):\n",
    "        print(\"Rechazo fallido de H0 para el evento {:} para los grupos {:} y {:}\\n\".\n",
    "              format(event,group_A,group_B))\n",
    "    else:\n",
    "        print(\"Rechazo fallido de H0 para el evento {:} para los grupos {:} y {:}\\n\".\n",
    "              format(event,group_A,group_B))"
   ]
  },
  {
   "cell_type": "code",
   "execution_count": null,
   "metadata": {},
   "outputs": [],
   "source": [
    "event_type = list(logs_clean[logs_clean.event != \"MainScreenAppear\"]['event'].unique())"
   ]
  },
  {
   "cell_type": "code",
   "execution_count": null,
   "metadata": {},
   "outputs": [],
   "source": [
    "for event in event_type:\n",
    "    check_hypothesis(246,247,event)"
   ]
  },
  {
   "cell_type": "markdown",
   "metadata": {},
   "source": [
    "Tras realizar una prueba A/A para los grupos 246 y 247, no he podido rechazar la hipótesis nula. No hay diferencias estadísticamente significativas."
   ]
  },
  {
   "cell_type": "markdown",
   "metadata": {},
   "source": [
    "### Test A/B\n",
    "#### Test A/B para grupos 246 y 248"
   ]
  },
  {
   "cell_type": "code",
   "execution_count": null,
   "metadata": {},
   "outputs": [],
   "source": [
    "for event in event_type:\n",
    "    check_hypothesis(246,248,event)"
   ]
  },
  {
   "cell_type": "markdown",
   "metadata": {},
   "source": [
    "Tras realizar una prueba A / B para los grupos 246 y 248, no he podido rechazar la hipótesis nula de que los datos la diferencia entre los grupos es estadísticamente significativa."
   ]
  },
  {
   "cell_type": "markdown",
   "metadata": {},
   "source": [
    "#### Test A/B para grupos 247 y 248"
   ]
  },
  {
   "cell_type": "code",
   "execution_count": null,
   "metadata": {},
   "outputs": [],
   "source": [
    "for event in event_type:\n",
    "    check_hypothesis(247,248,event)"
   ]
  },
  {
   "cell_type": "markdown",
   "metadata": {},
   "source": [
    "No hay diferencias estadísticamente significativas."
   ]
  },
  {
   "cell_type": "markdown",
   "metadata": {},
   "source": [
    "####  Test A/B para grupos (246+247) y grupo 248"
   ]
  },
  {
   "cell_type": "code",
   "execution_count": null,
   "metadata": {},
   "outputs": [],
   "source": [
    "for event in event_type:\n",
    "    check_hypothesis('246+247',248,event)"
   ]
  },
  {
   "cell_type": "markdown",
   "metadata": {},
   "source": [
    "Tras realizar una prueba A/B para los grupos (246 + 247) y 248, no pude rechazar la hipótesis nula. No existe una diferencia estadísticamente significativa.\n",
    "\n",
    "Se han realizado 16 pruebas, es decir, he tomado múltiples muestras del mismo conjunto de datos. Todas las pruebas mostraron que no había una diferencia estadísticamente significativa entre los datos. Aunque con tantas pruebas, aumenta la probabilidad de un error de tipo I. Sin embargo, no tiene sentido disminuir el valor alfa, ya que esto no cambiará los resultados."
   ]
  },
  {
   "cell_type": "markdown",
   "metadata": {},
   "source": [
    "<div class=\"alert alert-block alert-success\">\n",
    "\n",
    "<b>Comentario del revisor</b> <a class=\"tocSkip\"></a>\n",
    "\n",
    "Gran análisis estadístico, te dejaré algunos comentarios:\n",
    "    \n",
    "<ul>\n",
    "    <li>Muy bien la cantidad de usuarios por grupo experimental, no solamente hiciste el análisis por usuarios únicos y eventos si no que un análisis global por eventos, bastante bien y explicativo pues con la tabla de pivoteo es posible analizar los eventos y no ir uno a uno.</li>\n",
    "    <li>Muy bien! hiciste el algoritmo para probar la hipótesis y llegaste a la conclusión acertada que no existía razón para rechazar la hipótesis nula debido a que el valor p fue suficientemente alto.</li>\n",
    "    <li>Muy bien, llegaste de nuevo a la conclusión acertada de rechazar la hipótesis nula en cada uno de los casos.</li>\n",
    "    <li>Lograste probar en cada caso que no se debe rechazar la hipótesis nula, pero sería muy positivo agregar una discusión respecto a lo que está sucediendo con los valores p a lo largo de cada prueba de hipótesis que se vuelve a realizar, pues si bien no cambia la conclusión de rechazar la hipótesis nula, da información del comportamiento al comparar diferentes grupos o la variación del nivel de significancia.</li>\n",
    "</ul>\n",
    "</div>"
   ]
  },
  {
   "cell_type": "markdown",
   "metadata": {},
   "source": []
  },
  {
   "cell_type": "markdown",
   "metadata": {},
   "source": [
    "# 6. Conclusión Final"
   ]
  },
  {
   "cell_type": "markdown",
   "metadata": {},
   "source": [
    "El departamento de marketing planteó la hipótesis de que cambiar las fuentes de la aplicación aumentaría las conversiones. Para probar esta hipótesis, los usuarios se dividieron al azar en 3 grupos: 2 grupos de control y un grupo que utilizó la nueva interfaz.\n",
    "\n",
    "Se han procesado los datos, eliminado los fallos y los errores técnicos. He eliminado los datos del período en el que no se recopilaron en su totalidad.\n",
    "\n",
    "Se ha descubierto que el embudo de ventas contiene 4 etapas. La mayor pérdida de clientes se produce en la primera pantalla. Más del 40% de los usuarios no abren una página con una oferta de producto. También cabe destacar que entre los clientes que llegaron a la etapa del carrito, más del 92% realizan una compra.\n",
    "\n",
    "Se ha encontrado que la tasa de conversión de nuestro embudo de ventas fue del 44%.\n",
    "\n",
    "Se han realizado pruebas A/A de los grupos de control y se ha determinado que los datos se recopilaron correctamente.\n",
    "\n",
    "Al realizar pruebas A/B del grupo experimental 248 con los grupos de control 246, 247, no se encontraron diferencias estadísticamente significativas. Cambiar las fuentes no afectó a los usuarios de ninguna manera."
   ]
  },
  {
   "cell_type": "code",
   "execution_count": null,
   "metadata": {},
   "outputs": [],
   "source": []
  }
 ],
 "metadata": {
  "kernelspec": {
   "display_name": "Python 3 (ipykernel)",
   "language": "python",
   "name": "python3"
  },
  "language_info": {
   "codemirror_mode": {
    "name": "ipython",
    "version": 3
   },
   "file_extension": ".py",
   "mimetype": "text/x-python",
   "name": "python",
   "nbconvert_exporter": "python",
   "pygments_lexer": "ipython3",
   "version": "3.9.19"
  },
  "toc": {
   "base_numbering": 1,
   "nav_menu": {},
   "number_sections": true,
   "sideBar": true,
   "skip_h1_title": true,
   "title_cell": "Table of Contents",
   "title_sidebar": "Contents",
   "toc_cell": false,
   "toc_position": {},
   "toc_section_display": true,
   "toc_window_display": false
  }
 },
 "nbformat": 4,
 "nbformat_minor": 2
}
